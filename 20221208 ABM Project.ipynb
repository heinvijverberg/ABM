{
 "cells": [
  {
   "cell_type": "code",
   "execution_count": 2,
   "id": "cc113222",
   "metadata": {},
   "outputs": [],
   "source": [
    "import networkx as nx\n",
    "import pandas as pd\n",
    "import matplotlib.pyplot as plt\n",
    "import pickle\n",
    "import random\n",
    "from mesa import Agent, Model\n",
    "import mesa.time as time\n",
    "import mesa.space as space\n",
    "from mesa.datacollection import DataCollector\n",
    "import pandas as pd\n",
    "import warnings\n",
    "warnings.simplefilter(action='ignore', category=FutureWarning)"
   ]
  },
  {
   "cell_type": "code",
   "execution_count": 7,
   "id": "192d4501",
   "metadata": {},
   "outputs": [],
   "source": [
    "class Ambulance (Agent):\n",
    "    def __init__(self, unique_id, model, Location, max_speed = 30, Status_capacity = 'Empty', Destination = False):\n",
    "        super().__init__(unique_id, model)\n",
    "\n",
    "    def step(self):\n",
    "        print(\"Hello world! I am amublance: \" + str(self.unique_id) + \" my node id is: \" + str(self.pos))\n",
    "        # grid = model.grid\n",
    "        # possible_steps = grid.get_neighbors(self.pos, include_center = True)\n",
    "        # print(possible_steps)"
   ]
  },
  {
   "cell_type": "code",
   "execution_count": 8,
   "id": "5d20bd09",
   "metadata": {},
   "outputs": [],
   "source": [
    "class Inhabitant(Agent):\n",
    "    def __init__(self, unique_id, model, location, Status = '', Present_In_Ambulance = False):\n",
    "        super().__init__(unique_id, model)\n",
    "        self.Status = Status\n",
    "        self.Present_In_Ambulance = Present_In_Ambulance\n",
    "\n",
    "    def step(self):\n",
    "        print(\"Hello world! I am Inhabitant: \" + str(self.unique_id) + \" my node id is: \" + str(self.pos) + 'and I am ' + self.status)\n",
    "        grid = model.grid\n",
    "        possible_steps = grid.get_neighbors(self.pos, include_center = True)\n",
    "        print(possible_steps)"
   ]
  },
  {
   "cell_type": "code",
   "execution_count": 16,
   "id": "9ecaa67c",
   "metadata": {},
   "outputs": [],
   "source": [
    "# class Building():\n",
    "#     def __init__(self, Location, Building_type, Building_height, Distance_from_epicenten = 1, Eearquake_intensity = 0.2):\n",
    "#         self.Building_type = Building_type\n",
    "#         self.Building_height = Building_height\n",
    "#         self.Distance_from_epicenten = Distance_from_epicenten\n",
    "#         self.Eearquake_intensity = Eearquake_intensity\n",
    "#         self.Location = Location\n",
    "        \n",
    "#         self.VM = self.Building_type * self.Building_height * self.Distance_from_epicenten * self.Eearquake_intensity\n",
    "#         self.CP = (0.7*self.VM) + 0.1\n",
    "#         self.HP = (-0.15 * self.VM) +0.3\n",
    "#         self.NP = (-0.55 * self.VM) +0.6\n",
    "#         if self.CP+self.HP+self.NP !=1:\n",
    "#             print(f'something is wrong with damage calculations, CP is {self.CP}, HP is {self.HP}, NP is {self.NP}, total is {self.CP+self.HP+self.NP}')\n",
    "#         x = random.uniform(0,1)\n",
    "#         statuses = [self.CP, self.HP, self.NP]\n",
    "#         status_dict = {self.CP : 'The building is collapsed', self.HP : 'The building is highly damaged', self.NP: 'The building is not damaged'}\n",
    "#         Sorted_statuses = sorted(statuses)\n",
    "#         if Sorted_statuses[0]< x:\n",
    "#             print(status_dict[Sorted_statuses[0]])\n",
    "#         elif Sorted_statuses[1]< x:\n",
    "#             print(status_dict[Sorted_statuses[1]])\n",
    "#         elif Sorted_statuses[2]< x:\n",
    "#             print(status_dict[Sorted_statuses[2]])\n",
    "            \n",
    "#         for i in range(80):\n",
    "#             #Agents creeren\n",
    "def Building_status(Building_type, Building_height, Earthquake_intensity, Epicenter, Building_node, max_distance, min_distance, distance):\n",
    "        Distrance_from_epicenter = (max_distance-distance)/(max_distance-min_distance)\n",
    "        VM = Building_type * Building_height * Distance_from_epicenter * Eearquake_intensity\n",
    "        CP = (0.7*VM) + 0.1\n",
    "        HP = (-0.15 * VM) +0.3\n",
    "        NP = (-0.55 * VM) +0.6\n",
    "        if CP+HP+NP !=1:\n",
    "            print(f'something is wrong with damage calculations, CP is {CP}, HP is {HP}, NP is {NP}, total is {CP+HP+NP}')\n",
    "        x = random.uniform(0,1)\n",
    "        statuses = [CP, HP, NP]\n",
    "        status_dict = {CP : 'collapsed', HP : 'highly damaged', NP: 'not damaged'}\n",
    "        Sorted_statuses = sorted(statuses)\n",
    "        if Sorted_statuses[0]< x:\n",
    "            return(status_dict[Sorted_statuses[0]])\n",
    "        elif Sorted_statuses[1]< x:\n",
    "            return(status_dict[Sorted_statuses[1]])\n",
    "        elif Sorted_statuses[2]< x:\n",
    "            return(status_dict[Sorted_statuses[2]])"
   ]
  },
  {
   "cell_type": "code",
   "execution_count": 89,
   "id": "8fdbeeed",
   "metadata": {},
   "outputs": [],
   "source": [
    "class Hospital():\n",
    "    def __init__(self, Location, model, Hospital_id, Ambulances, Capacity, Starting_Occupancy, Working_speed = 20):\n",
    "        self.Location = Location\n",
    "        self.Ambulances = Ambulances\n",
    "        self.Capacity = Capacity\n",
    "        self.Starting_Occupancy = Starting_Occupancy\n",
    "        self.Working_speed = Working_speed\n",
    "        self.model = model\n",
    "        self.Hospital_id = Hospital_id\n",
    "        \n",
    "    def printing(self):\n",
    "        print('this hospital was made')\n",
    "        \n",
    "#         for i in range(Ambulances):\n",
    "#             Ambulance_id = str(Hospital_id) + str(i)\n",
    "#             a = Ambulance(Ambulance_id, self.model)\n",
    "#             print(Ambulance_id)\n",
    "#             #self.schedule.add(a)\n",
    "#             #location = random.choice(list(self.streets))\n",
    "#             #print(location)\n",
    "#             #self.grid.place_agent(a, Location)"
   ]
  },
  {
   "cell_type": "code",
   "execution_count": 155,
   "id": "dce1a04e",
   "metadata": {},
   "outputs": [],
   "source": [
    "class MinimalModel(Model):\n",
    "    def __init__(self, Hospitals = 10, Ambulances_Per_H = 10, Distance_Between_Hospitals = 50, Starting_H_Occupation = 0.2, Average_H_Capacity = 200):\n",
    "        self.schedule = time.RandomActivation(self)\n",
    "        self.Hospitals = Hospitals\n",
    "        self.Ambulances_Per_H = Ambulances_Per_H\n",
    "        self.Distance_Between_Hospitals = Distance_Between_Hospitals\n",
    "        self.Starting_H_Occupation = Starting_H_Occupation\n",
    "        self.Average_H_Capacity = Average_H_Capacity\n",
    "        Epicenter = random.randint(1,15012)\n",
    "        Earthquake_Intencity = random.choice([0.2,0.5,0.7,1.0])\n",
    "        print(f'The Epicenter is located at {Epicenter}, with intencity {Earthquake_Intencity}')\n",
    "        with open('street_network.data', 'rb') as file:\n",
    "            self.streets = pickle.load(file)\n",
    "        #self.grid = space.NetworkGrid(self.streets)\n",
    "        \n",
    "        #Getting the random hospital locations based on the criteria of the minimu distance\n",
    "        Hospital_Location = []\n",
    "        Hospital_counter = 0 #counter for the amount of hospitals\n",
    "        Check_counter = 0 #counter so we don't end up in an infinte loop\n",
    "        while Hospital_counter < self.Hospitals and Check_counter<1000:\n",
    "            Location = random.randint(1,15012)\n",
    "            if Location != Epicenter:\n",
    "                if len(Hospital_Location) == 0: \n",
    "                    Hospital_Location.append(Location)\n",
    "                    Hospital_counter+=1\n",
    "                else:\n",
    "                    Status = True # variable just created for keeping track of new hospital meets the criteria compared to the others\n",
    "                    for j in Hospital_Location:\n",
    "                        if nx.shortest_path_length(self.streets,Location,j,'Length') < self.Distance_Between_Hospitals:\n",
    "                            Status = False\n",
    "                    if Status == True:\n",
    "                        Hospital_Location.append(Location)\n",
    "                        Hospital_counter+=1\n",
    "                    else: \n",
    "                        Check_counter+=1\n",
    "        if Hospital_counter<self.Hospitals:\n",
    "            print(f'The number of hospitals could not be realised under the given criteria so {i} hospitals have been created')\n",
    "        \n",
    "        #creating a table to keep track of the sitaution of the hospitals\n",
    "        df_Hospitals = pd.DataFrame(columns=[])\n",
    "        for i in Hospital_Location:\n",
    "            df_Hospitals = df_Hospitals.append({'node':i, 'Total_Capacity': random.randint(round(self.Average_H_Capacity*0.8,0), round(self.Average_H_Capacity*1.2)), 'Occupancy': round(random.uniform(self.Starting_H_Occupation*0.8, self.Starting_H_Occupation*1.2),2)}, ignore_index = True)        \n",
    "        df_Hospitals['Available_Capacity'] = df_Hospitals.Total_Capacity*df_Hospitals.Occupancy\n",
    "        self.Hospitals = df_Hospitals\n",
    "        self.Total_Hospitals = pd.DataFrame(columns=[])\n",
    "        #print(sum(self.Hospitals.Total_Capacity)-sum(self.Hospitals.Available_Capacity)/sum(self.Hospitals.Total_Capacity))\n",
    "            \n",
    "#         Hospital_id_counter = 1\n",
    "#         for i in Hospital_Locations:\n",
    "#             Hospital(i, self, Hospital_id_counter, self.Ambulances_Per_H, random.randint(round(self.Average_H_Capacity*0.8,0), round(self.Average_H_Capacity*1.8)), self.Starting_H_Occupation)\n",
    "#             Hospital_id_counter += 1\n",
    "\n",
    "        #self.datacollector = DataCollector(model_reporters=model_metrics, agent_reporters=agent_metrics)\n",
    "\n",
    "        self.running = True\n",
    "        #self.datacollector.collect(self)\n",
    "\n",
    "    def step(self):\n",
    "        print(\"This is step: \" + str(self.schedule.steps))\n",
    "        self.schedule.step()\n",
    "        \n",
    "        #self.datacollector.collect(self)\n",
    "\n",
    "#def count_agents(self):\n",
    "    #return self.num_agents"
   ]
  },
  {
   "cell_type": "code",
   "execution_count": null,
   "id": "1a6d0d56",
   "metadata": {},
   "outputs": [],
   "source": [
    "self.Total_Hospitals = Total_Hospitals.append({'Time_step': self.schedule.step, 'Average Occupancy' = ((self.Hospitals.sum('Total_Capacity')-self.Hospitals.sum('Available_Capacity'))/self.Hospitals.sum('Total_Capacity')), 'Available_Capacity'= self.Hospitals.sum(Available_Capacity), 'Used_capacity' = (self.Hospitals.sum(Total_Capacity) - self.Hospitals.sum(Available_Capacity))}, ignore_index = True)\n"
   ]
  },
  {
   "cell_type": "code",
   "execution_count": 153,
   "id": "51478ae3",
   "metadata": {},
   "outputs": [
    {
     "name": "stdout",
     "output_type": "stream",
     "text": [
      "The Epicenter is located at 12273, with intencity 1.0\n",
      "1931.8033074534162\n"
     ]
    },
    {
     "data": {
      "text/html": [
       "<div>\n",
       "<style scoped>\n",
       "    .dataframe tbody tr th:only-of-type {\n",
       "        vertical-align: middle;\n",
       "    }\n",
       "\n",
       "    .dataframe tbody tr th {\n",
       "        vertical-align: top;\n",
       "    }\n",
       "\n",
       "    .dataframe thead th {\n",
       "        text-align: right;\n",
       "    }\n",
       "</style>\n",
       "<table border=\"1\" class=\"dataframe\">\n",
       "  <thead>\n",
       "    <tr style=\"text-align: right;\">\n",
       "      <th></th>\n",
       "      <th>node</th>\n",
       "      <th>Total_Capacity</th>\n",
       "      <th>Occupancy</th>\n",
       "      <th>Available_Capacity</th>\n",
       "    </tr>\n",
       "  </thead>\n",
       "  <tbody>\n",
       "    <tr>\n",
       "      <th>0</th>\n",
       "      <td>11541.0</td>\n",
       "      <td>211.0</td>\n",
       "      <td>0.18</td>\n",
       "      <td>37.98</td>\n",
       "    </tr>\n",
       "    <tr>\n",
       "      <th>1</th>\n",
       "      <td>9998.0</td>\n",
       "      <td>229.0</td>\n",
       "      <td>0.17</td>\n",
       "      <td>38.93</td>\n",
       "    </tr>\n",
       "    <tr>\n",
       "      <th>2</th>\n",
       "      <td>11247.0</td>\n",
       "      <td>175.0</td>\n",
       "      <td>0.18</td>\n",
       "      <td>31.50</td>\n",
       "    </tr>\n",
       "    <tr>\n",
       "      <th>3</th>\n",
       "      <td>10617.0</td>\n",
       "      <td>166.0</td>\n",
       "      <td>0.21</td>\n",
       "      <td>34.86</td>\n",
       "    </tr>\n",
       "    <tr>\n",
       "      <th>4</th>\n",
       "      <td>14411.0</td>\n",
       "      <td>195.0</td>\n",
       "      <td>0.19</td>\n",
       "      <td>37.05</td>\n",
       "    </tr>\n",
       "    <tr>\n",
       "      <th>5</th>\n",
       "      <td>14021.0</td>\n",
       "      <td>170.0</td>\n",
       "      <td>0.17</td>\n",
       "      <td>28.90</td>\n",
       "    </tr>\n",
       "    <tr>\n",
       "      <th>6</th>\n",
       "      <td>4349.0</td>\n",
       "      <td>199.0</td>\n",
       "      <td>0.17</td>\n",
       "      <td>33.83</td>\n",
       "    </tr>\n",
       "    <tr>\n",
       "      <th>7</th>\n",
       "      <td>8344.0</td>\n",
       "      <td>201.0</td>\n",
       "      <td>0.24</td>\n",
       "      <td>48.24</td>\n",
       "    </tr>\n",
       "    <tr>\n",
       "      <th>8</th>\n",
       "      <td>7615.0</td>\n",
       "      <td>196.0</td>\n",
       "      <td>0.22</td>\n",
       "      <td>43.12</td>\n",
       "    </tr>\n",
       "    <tr>\n",
       "      <th>9</th>\n",
       "      <td>11578.0</td>\n",
       "      <td>190.0</td>\n",
       "      <td>0.24</td>\n",
       "      <td>45.60</td>\n",
       "    </tr>\n",
       "  </tbody>\n",
       "</table>\n",
       "</div>"
      ],
      "text/plain": [
       "      node  Total_Capacity  Occupancy  Available_Capacity\n",
       "0  11541.0           211.0       0.18               37.98\n",
       "1   9998.0           229.0       0.17               38.93\n",
       "2  11247.0           175.0       0.18               31.50\n",
       "3  10617.0           166.0       0.21               34.86\n",
       "4  14411.0           195.0       0.19               37.05\n",
       "5  14021.0           170.0       0.17               28.90\n",
       "6   4349.0           199.0       0.17               33.83\n",
       "7   8344.0           201.0       0.24               48.24\n",
       "8   7615.0           196.0       0.22               43.12\n",
       "9  11578.0           190.0       0.24               45.60"
      ]
     },
     "execution_count": 153,
     "metadata": {},
     "output_type": "execute_result"
    }
   ],
   "source": [
    "R1 = MinimalModel()\n",
    "R1.Hospitals"
   ]
  },
  {
   "cell_type": "code",
   "execution_count": 3,
   "id": "8d49c1f3-8344-4011-9c6b-43eb84af462a",
   "metadata": {},
   "outputs": [],
   "source": [
    " with open('street_network.data', 'rb') as file:\n",
    "            streets = pickle.load(file)"
   ]
  },
  {
   "cell_type": "code",
   "execution_count": 10,
   "id": "52d8990b-9a0f-4378-9092-7e756eb72600",
   "metadata": {},
   "outputs": [
    {
     "data": {
      "text/plain": [
       "8611.542500000003"
      ]
     },
     "execution_count": 10,
     "metadata": {},
     "output_type": "execute_result"
    }
   ],
   "source": [
    "nx.shortest_path_length(streets,1,1475,'Length')"
   ]
  },
  {
   "cell_type": "code",
   "execution_count": 1,
   "id": "d58f5d9d-d075-4ee3-813d-49c5a1006b57",
   "metadata": {},
   "outputs": [],
   "source": [
    "#streets.adj"
   ]
  },
  {
   "cell_type": "code",
   "execution_count": 37,
   "id": "6208527e",
   "metadata": {},
   "outputs": [
    {
     "data": {
      "text/plain": [
       "0"
      ]
     },
     "execution_count": 37,
     "metadata": {},
     "output_type": "execute_result"
    }
   ],
   "source": [
    "nx.shortest_path_length(streets,50,50,'Length')"
   ]
  },
  {
   "cell_type": "code",
   "execution_count": 48,
   "id": "066b138d",
   "metadata": {},
   "outputs": [
    {
     "data": {
      "text/plain": [
       "179"
      ]
     },
     "execution_count": 48,
     "metadata": {},
     "output_type": "execute_result"
    }
   ],
   "source": [
    "random.randint(round(200*0.8,0), round(200*1.8))"
   ]
  },
  {
   "cell_type": "code",
   "execution_count": 90,
   "id": "317bfacf",
   "metadata": {},
   "outputs": [],
   "source": [
    "Hospital_Locations = [1,2,3,4,5]\n",
    "Hospital_id_counter = 1\n",
    "for i in Hospital_Locations:\n",
    "    name = 'H'+str(Hospital_id_counter)\n",
    "    name = Hospital(i, 'M1', Hospital_id_counter, 20, random.randint(round(200*0.8,0), round(200*1.8)), 0.2)\n",
    "    Hospital_id_counter += 1"
   ]
  },
  {
   "cell_type": "code",
   "execution_count": 80,
   "id": "b28514ae",
   "metadata": {},
   "outputs": [],
   "source": [
    "H1 = Hospital(i, 'M1', Hospital_id_counter, 20, random.randint(round(200*0.8,0), round(200*1.8)), 0.2)"
   ]
  },
  {
   "cell_type": "code",
   "execution_count": 92,
   "id": "c53dd362",
   "metadata": {},
   "outputs": [
    {
     "ename": "NameError",
     "evalue": "name 'H2' is not defined",
     "output_type": "error",
     "traceback": [
      "\u001b[1;31m---------------------------------------------------------------------------\u001b[0m",
      "\u001b[1;31mNameError\u001b[0m                                 Traceback (most recent call last)",
      "Input \u001b[1;32mIn [92]\u001b[0m, in \u001b[0;36m<cell line: 1>\u001b[1;34m()\u001b[0m\n\u001b[1;32m----> 1\u001b[0m \u001b[38;5;28mprint\u001b[39m(\u001b[43mH2\u001b[49m\u001b[38;5;241m.\u001b[39mHospital_id)\n",
      "\u001b[1;31mNameError\u001b[0m: name 'H2' is not defined"
     ]
    }
   ],
   "source": [
    "print(H2.Hospital_id)"
   ]
  },
  {
   "cell_type": "code",
   "execution_count": null,
   "id": "d01f05cd",
   "metadata": {},
   "outputs": [],
   "source": []
  }
 ],
 "metadata": {
  "kernelspec": {
   "display_name": "Python 3 (ipykernel)",
   "language": "python",
   "name": "python3"
  },
  "language_info": {
   "codemirror_mode": {
    "name": "ipython",
    "version": 3
   },
   "file_extension": ".py",
   "mimetype": "text/x-python",
   "name": "python",
   "nbconvert_exporter": "python",
   "pygments_lexer": "ipython3",
   "version": "3.9.12"
  }
 },
 "nbformat": 4,
 "nbformat_minor": 5
}
