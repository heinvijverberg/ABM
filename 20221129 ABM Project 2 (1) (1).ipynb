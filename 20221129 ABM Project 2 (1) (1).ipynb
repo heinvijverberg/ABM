{
 "cells": [
  {
   "cell_type": "code",
   "execution_count": 1,
   "id": "cc113222",
   "metadata": {},
   "outputs": [],
   "source": [
    "import networkx as nx\n",
    "import pandas as pd\n",
    "import matplotlib.pyplot as plt\n",
    "import pickle\n",
    "import random\n",
    "from mesa import Agent, Model\n",
    "import mesa.time as time\n",
    "import mesa.space as space\n",
    "from mesa.datacollection import DataCollector\n",
    "import pandas as pd\n",
    "import warnings\n",
    "warnings.simplefilter(action='ignore', category=FutureWarning)"
   ]
  },
  {
   "cell_type": "code",
   "execution_count": 2,
   "id": "192d4501",
   "metadata": {},
   "outputs": [],
   "source": [
    "class Ambulance (Agent):\n",
    "    def __init__(self, unique_id, model, Location, max_speed = 30, Status_capacity = 'Empty', Destination = False):\n",
    "        super().__init__(unique_id, model)\n",
    "\n",
    "    def step(self):\n",
    "        print(\"Hello world! I am amublance: \" + str(self.unique_id) + \" my node id is: \" + str(self.pos))\n",
    "        # grid = model.grid\n",
    "        # possible_steps = grid.get_neighbors(self.pos, include_center = True)\n",
    "        # print(possible_steps)"
   ]
  },
  {
   "cell_type": "code",
   "execution_count": 3,
   "id": "5d20bd09",
   "metadata": {},
   "outputs": [],
   "source": [
    "class Inhabitant(Agent):\n",
    "    def __init__(self, unique_id, model, location, Status = '', Present_In_Ambulance = False):\n",
    "        super().__init__(unique_id, model)\n",
    "        self.Status = Status\n",
    "        self.Present_In_Ambulance = Present_In_Ambulance\n",
    "\n",
    "    def step(self):\n",
    "        print(\"Hello world! I am Inhabitant: \" + str(self.unique_id) + \" my node id is: \" + str(self.pos) + 'and I am ' + self.status)\n",
    "        grid = model.grid\n",
    "        possible_steps = grid.get_neighbors(self.pos, include_center = True)\n",
    "        print(possible_steps)\n",
    "\n"
   ]
  },
  {
   "cell_type": "code",
   "execution_count": 5,
   "id": "9ecaa67c",
   "metadata": {},
   "outputs": [],
   "source": [
    "class Building():\n",
    "    def __init__(self, Location, Building_type, Building_height, Distance_from_epicenten = 1, Eearquake_intensity = 0.2):\n",
    "        self.Building_type = Building_type\n",
    "        self.Building_height = Building_height\n",
    "        self.Distance_from_epicenten = Distance_from_epicenten\n",
    "        self.Eearquake_intensity = Eearquake_intensity\n",
    "        self.Location = Location\n",
    "        \n",
    "        self.VM = self.Building_type * Building_height * Distance_from_epicenten * Eearquake_intensity\n",
    "        self.CP = (0.7*self.VM) + 0.1\n",
    "        self.HP = (-0.15 * self.VM) +0.3\n",
    "        self.NP = (-0.55 * self.VM) +0.6\n",
    "        if self.CP+self.HP+self.NP !=1:\n",
    "            print(f'something is wrong with damage calculations, CP is {self.CP}, HP is {self.HP}, NP is {self.NP}, total is {self.CP+self.HP+self.NP}')\n",
    "        x = random.uniform(0,1)\n",
    "        statuses = [self.CP, self.HP, self.NP]\n",
    "        status_dict = {self.CP : 'The building is collapsed', self.HP : 'The building is highly damaged', self.NP: 'The building is not damaged'}\n",
    "        Sorted_statuses = sorted(statuses)\n",
    "        if Sorted_statuses[0]< x:\n",
    "            print(status_dict[Sorted_statuses[0]])\n",
    "        elif Sorted_statuses[1]< x:\n",
    "            print(status_dict[Sorted_statuses[1]])\n",
    "        elif Sorted_statuses[2]< x:\n",
    "            print(status_dict[Sorted_statuses[2]])\n",
    "            \n",
    "        # for i in range(80):\n",
    "        #     #Agents creeren\n"
   ]
  },
  {
   "cell_type": "code",
   "execution_count": 6,
   "id": "8fdbeeed",
   "metadata": {},
   "outputs": [],
   "source": [
    "class Hospital():\n",
    "    def __init(self, Location, model, Hospital_id, Ambulances = 10, Capacity = 1000, Starting_Occupancy = 0.2, Working_speed = 20):\n",
    "        self.Location = Location\n",
    "        self.Ambulances = Ambulances\n",
    "        self.Capacity = Capacity\n",
    "        self.Starting_Occupancy = Occupancy\n",
    "        self.Working_speed = Working_speed\n",
    "        self.model = model\n",
    "        self.Hospital_id = Hospital_id\n",
    "        \n",
    "        for i in range(Ambulances):\n",
    "            Ambulance_id = str(Hospital_id) + str(i)\n",
    "            a = Ambulance(Ambulance_id, self.model)\n",
    "            print(Ambulance_id)\n",
    "            #self.schedule.add(a)\n",
    "            #location = random.choice(list(self.streets))\n",
    "            #print(location)\n",
    "            self.grid.place_agent(a, Location)"
   ]
  },
  {
   "cell_type": "code",
   "execution_count": 7,
   "id": "dce1a04e",
   "metadata": {},
   "outputs": [],
   "source": [
    "class MinimalModel(Model):\n",
    "    def __init__(self):\n",
    "        self.schedule = time.RandomActivation(self)\n",
    "#         with open('street_network.data', 'rb') as file:\n",
    "#             self.streets = pickle.load(file)\n",
    "\n",
    "#         self.grid = space.NetworkGrid(self.streets)\n",
    "#         mean_per_building = self.inhabitants/self.amount_buildings\n",
    "        \n",
    "        for i in range(5):\n",
    "            H1 = Hospital(1, self, i)\n",
    "  \n",
    "        #for i in range(self.inhabitants):\n",
    "         #   a = Inhabitant(i, self)\n",
    "          #  self.schedule.add(a)\n",
    "           # location = random.choice(list(self.streets))\n",
    "            #print(location)\n",
    "           # self.grid.place_agent(a, location)\n",
    "\n",
    "      #  model_metrics = {\n",
    "       #     \"Number of Agents\": count_agents\n",
    "        #}\n",
    "\n",
    "        #agent_metrics = {\n",
    "        #    \"Agent ID\": \"unique_id\"\n",
    "        #}\n",
    "\n",
    "        self.datacollector = DataCollector(model_reporters=model_metrics, agent_reporters=agent_metrics)\n",
    "\n",
    "        self.running = True\n",
    "        self.datacollector.collect(self)\n",
    "\n",
    "    def step(self):\n",
    "        print(\"This is step: \" + str(self.schedule.steps))\n",
    "        self.schedule.step()\n",
    "        self.datacollector.collect(self)\n",
    "\n",
    "#def count_agents(self):\n",
    "    #return self.num_agents"
   ]
  },
  {
   "cell_type": "code",
   "execution_count": 8,
   "id": "51478ae3",
   "metadata": {},
   "outputs": [
    {
     "ename": "TypeError",
     "evalue": "Hospital() takes no arguments",
     "output_type": "error",
     "traceback": [
      "\u001b[1;31m---------------------------------------------------------------------------\u001b[0m",
      "\u001b[1;31mTypeError\u001b[0m                                 Traceback (most recent call last)",
      "Input \u001b[1;32mIn [8]\u001b[0m, in \u001b[0;36m<cell line: 1>\u001b[1;34m()\u001b[0m\n\u001b[1;32m----> 1\u001b[0m R1 \u001b[38;5;241m=\u001b[39m \u001b[43mMinimalModel\u001b[49m\u001b[43m(\u001b[49m\u001b[43m)\u001b[49m\n",
      "Input \u001b[1;32mIn [7]\u001b[0m, in \u001b[0;36mMinimalModel.__init__\u001b[1;34m(self)\u001b[0m\n\u001b[0;32m      4\u001b[0m \u001b[38;5;66;03m#         with open('street_network.data', 'rb') as file:\u001b[39;00m\n\u001b[0;32m      5\u001b[0m \u001b[38;5;66;03m#             self.streets = pickle.load(file)\u001b[39;00m\n\u001b[0;32m      6\u001b[0m \n\u001b[0;32m      7\u001b[0m \u001b[38;5;66;03m#         self.grid = space.NetworkGrid(self.streets)\u001b[39;00m\n\u001b[0;32m      8\u001b[0m \u001b[38;5;66;03m#         mean_per_building = self.inhabitants/self.amount_buildings\u001b[39;00m\n\u001b[0;32m     10\u001b[0m         \u001b[38;5;28;01mfor\u001b[39;00m i \u001b[38;5;129;01min\u001b[39;00m \u001b[38;5;28mrange\u001b[39m(\u001b[38;5;241m5\u001b[39m):\n\u001b[1;32m---> 11\u001b[0m             H1 \u001b[38;5;241m=\u001b[39m \u001b[43mHospital\u001b[49m\u001b[43m(\u001b[49m\u001b[38;5;241;43m1\u001b[39;49m\u001b[43m,\u001b[49m\u001b[43m \u001b[49m\u001b[38;5;28;43mself\u001b[39;49m\u001b[43m,\u001b[49m\u001b[43m \u001b[49m\u001b[43mi\u001b[49m\u001b[43m)\u001b[49m\n\u001b[0;32m     13\u001b[0m         \u001b[38;5;66;03m#for i in range(self.inhabitants):\u001b[39;00m\n\u001b[0;32m     14\u001b[0m          \u001b[38;5;66;03m#   a = Inhabitant(i, self)\u001b[39;00m\n\u001b[0;32m     15\u001b[0m           \u001b[38;5;66;03m#  self.schedule.add(a)\u001b[39;00m\n\u001b[1;32m   (...)\u001b[0m\n\u001b[0;32m     25\u001b[0m         \u001b[38;5;66;03m#    \"Agent ID\": \"unique_id\"\u001b[39;00m\n\u001b[0;32m     26\u001b[0m         \u001b[38;5;66;03m#}\u001b[39;00m\n\u001b[0;32m     28\u001b[0m         \u001b[38;5;28mself\u001b[39m\u001b[38;5;241m.\u001b[39mdatacollector \u001b[38;5;241m=\u001b[39m DataCollector(model_reporters\u001b[38;5;241m=\u001b[39mmodel_metrics, agent_reporters\u001b[38;5;241m=\u001b[39magent_metrics)\n",
      "\u001b[1;31mTypeError\u001b[0m: Hospital() takes no arguments"
     ]
    }
   ],
   "source": [
    "R1 = MinimalModel()"
   ]
  },
  {
   "cell_type": "code",
   "execution_count": null,
   "id": "975669c8-61d2-489f-b389-50fa54d38b9c",
   "metadata": {},
   "outputs": [],
   "source": []
  }
 ],
 "metadata": {
  "kernelspec": {
   "display_name": "Python 3 (ipykernel)",
   "language": "python",
   "name": "python3"
  },
  "language_info": {
   "codemirror_mode": {
    "name": "ipython",
    "version": 3
   },
   "file_extension": ".py",
   "mimetype": "text/x-python",
   "name": "python",
   "nbconvert_exporter": "python",
   "pygments_lexer": "ipython3",
   "version": "3.9.12"
  }
 },
 "nbformat": 4,
 "nbformat_minor": 5
}
